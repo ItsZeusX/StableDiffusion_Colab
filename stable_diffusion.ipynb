{
  "cells": [
    {
      "cell_type": "code",
      "execution_count": null,
      "metadata": {
        "colab": {
          "base_uri": "https://localhost:8080/"
        },
        "id": "sBbcB4vwj_jm",
        "outputId": "e1856709-aa2b-47b4-ab22-30d5a29bbd77"
      },
      "outputs": [],
      "source": [
        "!pip install --upgrade fastapi==0.90.0\n",
        "!git clone https://github.com/AUTOMATIC1111/stable-diffusion-webui\n",
        "\n",
        "#Extensions\n",
        "!git clone https://github.com/yfszzx/stable-diffusion-webui-images-browser /content/stable-diffusion-webui/extensions/stable-diffusion-webui-images-browser\n",
        "!git clone https://github.com/civitai/sd_civitai_extension /content/stable-diffusion-webui/extensions/sd_civitai_extension\n",
        "\n",
        "#Embedings\n",
        "!curl -Lo bad_prompt_version2.pt https://huggingface.co/datasets/Nerfgun3/bad_prompt/resolve/main/bad_prompt_version2.pt\n",
        "!mv \"/content/bad_prompt_version2.pt\" \"/content/stable-diffusion-webui/embeddings\"\n",
        "!curl -Lo EasyNegative.pt https://huggingface.co/datasets/gsdf/EasyNegative/resolve/main/EasyNegative.pt\n",
        "!mv \"/content/EasyNegative.pt\" \"/content/stable-diffusion-webui/embeddings\"\n",
        "\n",
        "#@markdown ### Model selection :\n",
        "model = \"Counterfeit-V2.5\" #@param [\"AbyssOrangeMixV3 AOM3\",\"PastelMix\",\"AnythingV4.5\",\"Counterfeit-V2.5\"]\n",
        "\n",
        "#AbyssOrangeMixV3 AOM3\n",
        "if model==\"AbyssOrangeMixV3 AOM3\" :\n",
        "  !curl -Lo abyssorangemix3.safetensors https://huggingface.co/WarriorMama777/OrangeMixs/resolve/main/Models/AbyssOrangeMix3/AOM3A3.safetensors\n",
        "  !curl -Lo abyssorangemix3.vae.pt https://huggingface.co/WarriorMama777/OrangeMixs/resolve/main/VAEs/orangemix.vae.pt\n",
        "  !mv \"/content/abyssorangemix3.safetensors\" \"/content/stable-diffusion-webui/models/Stable-diffusion\"\n",
        "  !mv \"/content/abyssorangemix3.vae.pt\" \"/content/stable-diffusion-webui/models/Stable-diffusion\"\n",
        "\n",
        "#PastelMix\n",
        "elif model==\"PastelMix\" :\n",
        "  !curl -Lo pastelmix.ckpt https://huggingface.co/andite/pastel-mix/resolve/main/pastelmix-better-vae-fp32.ckpt\n",
        "  !mv \"/content/pastelmix.ckpt\" \"/content/stable-diffusion-webui/models/Stable-diffusion\"\n",
        "\n",
        "#AnythingV4.5\n",
        "elif model==\"AnythingV4.5\" :\n",
        "  !curl -Lo anythingv4.5.ckpt https://huggingface.co/andite/anything-v4.0/resolve/main/anything-v4.5-pruned.ckpt\n",
        "  !curl -Lo anythingv4.5.vae.pt https://huggingface.co/andite/anything-v4.0/resolve/main/anything-v4.0.vae.pt\n",
        "  !mv \"/content/anythingv4.5.ckpt\" \"/content/stable-diffusion-webui/models/Stable-diffusion\"\n",
        "  !mv \"/content/anythingv4.5.vae.pt\" \"/content/stable-diffusion-webui/models/Stable-diffusion\"\n",
        "\n",
        "#Counterfeit-V2.5\n",
        "elif model==\"Counterfeit-V2.5\" :\n",
        "  !curl -Lo Counterfeit-V2.5_pruned.safetensors https://huggingface.co/gsdf/Counterfeit-V2.5/resolve/main/Counterfeit-V2.5_pruned.safetensors\n",
        "  !curl -Lo Counterfeitv2.5.vae.pt https://huggingface.co/gsdf/Counterfeit-V2.5/resolve/main/Counterfeit-V2.5.vae.pt\n",
        "  !mv \"/content/Counterfeit-V2.5_pruned.safetensors\" \"/content/stable-diffusion-webui/models/Stable-diffusion\"\n",
        "  !mv \"/content/Counterfeitv2.5.vae.pt\" \"/content/stable-diffusion-webui/models/Stable-diffusion\"\n",
        "\n",
        "#DreamShaper\n",
        "elif model==\"DreamShaper-v3.32\" :\n",
        "  !curl -Lo dreamshaper3.32bvcf.ckpt https://huggingface.co/Lykon/DreamShaper/resolve/main/Dreamshaper_3.32_baked_vae_clip_fix.ckpt\n",
        "  !mv \"/content/dreamshaper3.32bvcf.ckpt\" \"/content/stable-diffusion-webui/models/Stable-diffusion\"\n",
        "\n",
        "\n",
        "%cd /content/stable-diffusion-webui\n",
        "!git checkout 91c8d0d\n",
        "!COMMANDLINE_ARGS=\"--share --disable-safe-unpickle --no-half-vae --xformers --reinstall-xformers --enable-insecure-extension-access\" REQS_FILE=\"requirements.txt\" python launch.py"
      ]
    },
    {
      "cell_type": "code",
      "execution_count": null,
      "metadata": {
        "colab": {
          "base_uri": "https://localhost:8080/"
        },
        "id": "m0wmBS9g904L",
        "outputId": "176eee98-fce7-4516-bf57-7a3474bf12f2"
      },
      "outputs": [],
      "source": [
        "# Copy all the outputs to drive\n",
        "from google.colab import drive\n",
        "drive.mount('/content/drive')\n",
        "!mkdir -p /content/drive/MyDrive/SF_Outputs\n",
        "!rsync -a --stats /content/stable-diffusion-webui/outputs /content/drive/MyDrive/SF_Outputs\n"
      ]
    },
    {
      "cell_type": "code",
      "execution_count": null,
      "metadata": {
        "id": "h2PnhyaaA1Jc"
      },
      "outputs": [],
      "source": []
    }
  ],
  "metadata": {
    "accelerator": "GPU",
    "colab": {
      "provenance": []
    },
    "gpuClass": "standard",
    "kernelspec": {
      "display_name": "Python 3",
      "name": "python3"
    },
    "language_info": {
      "name": "python"
    }
  },
  "nbformat": 4,
  "nbformat_minor": 0
}
